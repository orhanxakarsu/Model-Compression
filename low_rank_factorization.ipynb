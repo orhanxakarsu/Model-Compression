{
 "cells": [
  {
   "cell_type": "code",
   "execution_count": 1,
   "id": "43e6d446-3edb-4b7a-aa38-796dc45b7eb6",
   "metadata": {},
   "outputs": [],
   "source": [
    "import torch\n",
    "import torch.nn as nn\n",
    "import torch.optim as optim\n",
    "import torchvision\n",
    "import torchvision.transforms as transforms\n",
    "import torch.nn.functional as F\n",
    "\n",
    "from torch.utils.data import DataLoader"
   ]
  },
  {
   "cell_type": "code",
   "execution_count": 2,
   "id": "3c8a52e8-9f13-4347-aa3e-af798a8c6ce0",
   "metadata": {},
   "outputs": [],
   "source": [
    "# 1 Data Transformer\n",
    "transform = transforms.Compose([transforms.ToTensor(),\n",
    "                               transforms.Normalize((0.5,),(0.5,))])\n",
    "\n",
    "# 2 Create Train Dataset\n",
    "trainset = torchvision.datasets.MNIST(root='./data', train =True,\n",
    "                                    download = True, transform = transform)\n",
    "trainloader = DataLoader(trainset, batch_size =64, shuffle =True)\n",
    "\n",
    "#3 Create Test Dataset\n",
    "testset = torchvision.datasets.MNIST(root = \"./data\", train = False,\n",
    "                                     download = True, transform = transform)\n",
    "testloader = DataLoader(testset, batch_size=64, shuffle=True)"
   ]
  },
  {
   "cell_type": "code",
   "execution_count": 3,
   "id": "0eb4efb1-79ca-4191-b8a5-a1bdfbe5e8bc",
   "metadata": {},
   "outputs": [],
   "source": [
    "device = \"cuda\" if torch.cuda.is_available() else \"cpu\""
   ]
  },
  {
   "cell_type": "code",
   "execution_count": 4,
   "id": "eb3f09d3-4e67-4b07-b258-07c5a58a468b",
   "metadata": {},
   "outputs": [],
   "source": [
    "class NeuralNetwork(nn.Module):\n",
    "\n",
    "    def __init__(self):\n",
    "        super(NeuralNetwork,self).__init__()\n",
    "\n",
    "        self.fc1 = nn.Linear(28*28,512)\n",
    "        self.fc2 = nn.Linear(512,256)\n",
    "        self.fc3 = nn.Linear(256,128)\n",
    "        self.fc4 = nn.Linear(128,10)\n",
    "\n",
    "\n",
    "    def forward(self,x):\n",
    "        x = x.view(x.size(0),-1)\n",
    "        x = F.relu(self.fc1(x))\n",
    "        x = F.relu(self.fc2(x))\n",
    "        x = F.relu(self.fc3(x))\n",
    "        return self.fc4(x)"
   ]
  },
  {
   "cell_type": "code",
   "execution_count": 5,
   "id": "4f1560f7-0ac0-4051-bade-284475fc31fb",
   "metadata": {},
   "outputs": [],
   "source": [
    "net = NeuralNetwork().to(device)\n",
    "optimizer = optim.Adam(net.parameters(),lr = 0.001)\n",
    "criterion = nn.CrossEntropyLoss().to(device)\n",
    "epoch_size = 5"
   ]
  },
  {
   "cell_type": "code",
   "execution_count": 6,
   "id": "0ca8b34f-dd2d-4d91-9591-34da2f8dad99",
   "metadata": {
    "scrolled": true
   },
   "outputs": [
    {
     "name": "stdout",
     "output_type": "stream",
     "text": [
      "Epoch 1 Loss: 0.3217 Accuracy: 0.8987\n",
      "Epoch 2 Loss: 0.1440 Accuracy: 0.9557\n",
      "Epoch 3 Loss: 0.1093 Accuracy: 0.9660\n",
      "Epoch 4 Loss: 0.0886 Accuracy: 0.9720\n",
      "Epoch 5 Loss: 0.0749 Accuracy: 0.9762\n"
     ]
    }
   ],
   "source": [
    "net.train()\n",
    "\n",
    "for epoch in range(epoch_size):\n",
    "    epoch_loss = 0\n",
    "    correct_predictions = 0\n",
    "    total_predictions = 0\n",
    "    for data in trainloader:\n",
    "        \n",
    "        \n",
    "        X, y = data[0].to(device), data[1].to(device)\n",
    "    \n",
    "        preds = net(X)\n",
    "        loss = criterion(preds,y)\n",
    "        loss.backward()\n",
    "        optimizer.step()\n",
    "        optimizer.zero_grad()\n",
    "\n",
    "        epoch_loss+= loss\n",
    "\n",
    "        #Calculate accuracy\n",
    "\n",
    "        _, predicted = torch.max(preds,1)\n",
    "        correct_predictions += (predicted ==y).sum().item()\n",
    "        total_predictions+= y.size(0)\n",
    "\n",
    "    accuracy = correct_predictions / total_predictions\n",
    "\n",
    "    average_loss = epoch_loss / len(trainloader)\n",
    "\n",
    "    print(f\"Epoch {epoch+1} Loss: {average_loss:.4f} Accuracy: {accuracy:.4f}\")\n",
    "    \n"
   ]
  },
  {
   "cell_type": "code",
   "execution_count": 12,
   "id": "711f23cf-00c1-45a1-bb43-8bd52adc5351",
   "metadata": {},
   "outputs": [
    {
     "name": "stdout",
     "output_type": "stream",
     "text": [
      "torch.Size([128, 256])\n",
      "----------------------------------------------------------------------\n",
      "torch.Size([128, 128])\n",
      "torch.Size([128])\n",
      "torch.Size([256, 128])\n"
     ]
    }
   ],
   "source": [
    "#faktorize the chosen layer\n",
    "\n",
    "print(net.fc3.weight.shape,end =\"\\n\" + \"-------\"*10 + \"\\n\")\n",
    "\n",
    "U, S, V = torch.svd(net.fc3.weight)\n",
    "\n",
    "print(U.shape)\n",
    "print(S.shape)\n",
    "print(V.shape)"
   ]
  },
  {
   "cell_type": "code",
   "execution_count": 13,
   "id": "dd814961-c5d6-4c1d-bc8e-211332ae576c",
   "metadata": {},
   "outputs": [],
   "source": [
    "# Define rank\n",
    "rank =64\n",
    "\n",
    "#Truncate U, S and V\n",
    "U_low_rank = U[:, :rank]\n",
    "S_low_rank =torch.diag(S[:rank])\n",
    "V_low_rank = V[:, :rank]"
   ]
  },
  {
   "cell_type": "code",
   "execution_count": 14,
   "id": "8edbd9d6-c132-46d3-b2ca-13174861863e",
   "metadata": {},
   "outputs": [
    {
     "name": "stdout",
     "output_type": "stream",
     "text": [
      "torch.Size([128, 64])\n",
      "torch.Size([64, 64])\n",
      "torch.Size([256, 64])\n"
     ]
    }
   ],
   "source": [
    "print(U_low_rank.shape) # torch.Size([128, 64])\n",
    "print(S_low_rank.shape) # torch.Size([64, 64])\n",
    "print(V_low_rank.shape) # torch.Size([256, 64])"
   ]
  },
  {
   "cell_type": "code",
   "execution_count": null,
   "id": "56b0ec55-3fb3-48e2-ad68-1f36f94a938e",
   "metadata": {},
   "outputs": [],
   "source": []
  }
 ],
 "metadata": {
  "kernelspec": {
   "display_name": "Python 3 (ipykernel)",
   "language": "python",
   "name": "python3"
  },
  "language_info": {
   "codemirror_mode": {
    "name": "ipython",
    "version": 3
   },
   "file_extension": ".py",
   "mimetype": "text/x-python",
   "name": "python",
   "nbconvert_exporter": "python",
   "pygments_lexer": "ipython3",
   "version": "3.12.4"
  }
 },
 "nbformat": 4,
 "nbformat_minor": 5
}
