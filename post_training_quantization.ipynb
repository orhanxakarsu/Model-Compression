{
 "cells": [
  {
   "cell_type": "code",
   "execution_count": 1,
   "id": "f83b070a-98dc-4c5c-8c51-26bec37999fa",
   "metadata": {},
   "outputs": [],
   "source": [
    "import torch\n",
    "import torch.nn as nn\n",
    "import torch.optim as optim\n",
    "import torchvision\n",
    "import torchvision.transforms as transforms\n",
    "import torch.nn.functional as F\n",
    "\n",
    "from torch.utils.data import DataLoader"
   ]
  },
  {
   "cell_type": "code",
   "execution_count": 2,
   "id": "396d9f17-3f46-4290-9bf3-4b46a86ab3a7",
   "metadata": {},
   "outputs": [],
   "source": [
    "# 1 Data Transformer\n",
    "transform = transforms.Compose([transforms.ToTensor(),\n",
    "                               transforms.Normalize((0.5,),(0.5,))])\n",
    "\n",
    "# 2 Create Train Dataset\n",
    "trainset = torchvision.datasets.MNIST(root='./data', train =True,\n",
    "                                    download = True, transform = transform)\n",
    "trainloader = DataLoader(trainset, batch_size =64, shuffle =True)\n",
    "\n",
    "#3 Create Test Dataset\n",
    "testset = torchvision.datasets.MNIST(root = \"./data\", train = False,\n",
    "                                     download = True, transform = transform)\n",
    "testloader = DataLoader(testset, batch_size=64, shuffle=True)"
   ]
  },
  {
   "cell_type": "code",
   "execution_count": 5,
   "id": "85ada622-3b9c-4978-a661-366e0397cc91",
   "metadata": {},
   "outputs": [],
   "source": [
    "device = \"cuda\" if torch.cuda.is_available() else \"cpu\""
   ]
  },
  {
   "cell_type": "code",
   "execution_count": 6,
   "id": "30bd02cc-d62c-4948-b5b9-06285799fb39",
   "metadata": {},
   "outputs": [],
   "source": [
    "class NeuralNetwork(nn.Module):\n",
    "\n",
    "    def __init__(self):\n",
    "        super(NeuralNetwork,self).__init__()\n",
    "\n",
    "        self.fc1 = nn.Linear(28*28,512)\n",
    "        self.fc2 = nn.Linear(512,256)\n",
    "        self.fc3 = nn.Linear(256,128)\n",
    "        self.fc4 = nn.Linear(128,10)\n",
    "\n",
    "\n",
    "    def forward(self,x):\n",
    "        x = x.view(x.size(0),-1)\n",
    "        x = F.relu(self.fc1(x))\n",
    "        x = F.relu(self.fc2(x))\n",
    "        x = F.relu(self.fc3(x))\n",
    "        return self.fc4(x)"
   ]
  },
  {
   "cell_type": "code",
   "execution_count": 7,
   "id": "ce063e1d-cfcb-49dc-abbb-854097ee63a2",
   "metadata": {},
   "outputs": [],
   "source": [
    "net = NeuralNetwork().to(device)\n",
    "optimizer = optim.Adam(net.parameters(),lr = 0.001)\n",
    "criterion = nn.CrossEntropyLoss().to(device)\n",
    "epoch_size = 5"
   ]
  },
  {
   "cell_type": "code",
   "execution_count": 8,
   "id": "0c6052ab-6dd6-4c45-b59e-718648070c84",
   "metadata": {},
   "outputs": [
    {
     "name": "stdout",
     "output_type": "stream",
     "text": [
      "Epoch 1 Loss: 0.3274 Accuracy: 0.8960\n",
      "Epoch 2 Loss: 0.1486 Accuracy: 0.9539\n",
      "Epoch 3 Loss: 0.1115 Accuracy: 0.9648\n",
      "Epoch 4 Loss: 0.0896 Accuracy: 0.9717\n",
      "Epoch 5 Loss: 0.0757 Accuracy: 0.9766\n"
     ]
    }
   ],
   "source": [
    "net.train()\n",
    "\n",
    "for epoch in range(epoch_size):\n",
    "    epoch_loss = 0\n",
    "    correct_predictions = 0\n",
    "    total_predictions = 0\n",
    "    for data in trainloader:\n",
    "        \n",
    "        \n",
    "        X, y = data[0].to(device), data[1].to(device)\n",
    "    \n",
    "        preds = net(X)\n",
    "        loss = criterion(preds,y)\n",
    "        loss.backward()\n",
    "        optimizer.step()\n",
    "        optimizer.zero_grad()\n",
    "\n",
    "        epoch_loss+= loss\n",
    "\n",
    "        #Calculate accuracy\n",
    "\n",
    "        _, predicted = torch.max(preds,1)\n",
    "        correct_predictions += (predicted ==y).sum().item()\n",
    "        total_predictions+= y.size(0)\n",
    "\n",
    "    accuracy = correct_predictions / total_predictions\n",
    "\n",
    "    average_loss = epoch_loss / len(trainloader)\n",
    "\n",
    "    print(f\"Epoch {epoch+1} Loss: {average_loss:.4f} Accuracy: {accuracy:.4f}\")\n",
    "    \n"
   ]
  },
  {
   "cell_type": "code",
   "execution_count": 21,
   "id": "79a029be-50d4-40f2-97ab-f281d1f2ae83",
   "metadata": {},
   "outputs": [],
   "source": [
    "# Convert the model to quantized version\n",
    "\n",
    "quantized_model = torch.quantization.quantize_dynamic(\n",
    "    net.to('cpu'), # Model\n",
    "    {torch.nn.Linear}, # The layers to be quantized\n",
    "    dtype=torch.qint8 # Quantization data type (int8)\n",
    ")"
   ]
  },
  {
   "cell_type": "code",
   "execution_count": 22,
   "id": "d13eed49-e6c8-4816-b370-4b206cddf2dc",
   "metadata": {},
   "outputs": [],
   "source": [
    "\n",
    "def test_model(net, testloader, criterion, device):\n",
    "    net.eval()  # modeli değerlendirme moduna al\n",
    "    test_loss = 0\n",
    "    correct_predictions = 0\n",
    "    total_predictions = 0\n",
    "\n",
    "    with torch.no_grad():  # geri yayılım işlemi olmadan test et\n",
    "        for data in testloader:\n",
    "            X, y = data[0].to(device), data[1].to(device)\n",
    "            preds = net(X)\n",
    "            loss = criterion(preds, y)\n",
    "            test_loss += loss.item()\n",
    "\n",
    "            # Doğruluğu hesapla\n",
    "            _, predicted = torch.max(preds, 1)\n",
    "            correct_predictions += (predicted == y).sum().item()\n",
    "            total_predictions += y.size(0)\n",
    "\n",
    "    accuracy = correct_predictions / total_predictions\n",
    "    average_loss = test_loss / len(testloader)\n",
    "    print(f\"Test Loss: {average_loss:.4f} Accuracy: {accuracy:.4f}\")\n",
    "    return average_loss, accuracy"
   ]
  },
  {
   "cell_type": "code",
   "execution_count": 23,
   "id": "65408c13-8dfd-4876-a5f2-fceb8290b165",
   "metadata": {},
   "outputs": [
    {
     "name": "stdout",
     "output_type": "stream",
     "text": [
      "Test Loss: 0.1004 Accuracy: 0.9696\n"
     ]
    },
    {
     "data": {
      "text/plain": [
       "(0.10041138160511091, 0.9696)"
      ]
     },
     "execution_count": 23,
     "metadata": {},
     "output_type": "execute_result"
    }
   ],
   "source": [
    "net = net.to('cpu')\n",
    "test_model(net,testloader,criterion,'cpu')"
   ]
  },
  {
   "cell_type": "code",
   "execution_count": 24,
   "id": "bfa735f4-20ac-4695-86b4-4336871f24cc",
   "metadata": {},
   "outputs": [
    {
     "name": "stdout",
     "output_type": "stream",
     "text": [
      "Test Loss: 0.0999 Accuracy: 0.9695\n"
     ]
    },
    {
     "data": {
      "text/plain": [
       "(0.09989340358656967, 0.9695)"
      ]
     },
     "execution_count": 24,
     "metadata": {},
     "output_type": "execute_result"
    }
   ],
   "source": [
    "quantized_model.eval()\n",
    "test_model(quantized_model,testloader,criterion,\"cpu\")"
   ]
  },
  {
   "cell_type": "code",
   "execution_count": null,
   "id": "eba69d11-b48c-4af1-830b-d1bb3c93ecd4",
   "metadata": {},
   "outputs": [],
   "source": []
  }
 ],
 "metadata": {
  "kernelspec": {
   "display_name": "Python 3 (ipykernel)",
   "language": "python",
   "name": "python3"
  },
  "language_info": {
   "codemirror_mode": {
    "name": "ipython",
    "version": 3
   },
   "file_extension": ".py",
   "mimetype": "text/x-python",
   "name": "python",
   "nbconvert_exporter": "python",
   "pygments_lexer": "ipython3",
   "version": "3.12.4"
  }
 },
 "nbformat": 4,
 "nbformat_minor": 5
}
