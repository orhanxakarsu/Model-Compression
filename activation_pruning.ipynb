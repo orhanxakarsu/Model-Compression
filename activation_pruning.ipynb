{
 "cells": [
  {
   "cell_type": "code",
   "execution_count": 1,
   "id": "82c5c1dc-f660-47c7-8e23-61bbc0cf60f7",
   "metadata": {},
   "outputs": [],
   "source": [
    "import torch\n",
    "import torch.nn as nn\n",
    "import torch.optim as optim\n",
    "import torchvision\n",
    "import torchvision.transforms as transforms\n",
    "import torch.nn.functional as F\n",
    "\n",
    "from torch.utils.data import DataLoader"
   ]
  },
  {
   "cell_type": "code",
   "execution_count": 2,
   "id": "2d67695e-fc04-48d2-9617-db31209ee356",
   "metadata": {},
   "outputs": [],
   "source": [
    "# 1 Data Transformer\n",
    "transform = transforms.Compose([transforms.ToTensor(),\n",
    "                               transforms.Normalize((0.5,),(0.5,))])\n",
    "\n",
    "# 2 Create Train Dataset\n",
    "trainset = torchvision.datasets.MNIST(root='./data', train =True,\n",
    "                                    download = True, transform = transform)\n",
    "trainloader = DataLoader(trainset, batch_size =64, shuffle =True)\n",
    "\n",
    "#3 Create Test Dataset\n",
    "testset = torchvision.datasets.MNIST(root = \"./data\", train = False,\n",
    "                                     download = True, transform = transform)\n",
    "testloader = DataLoader(testset, batch_size=64, shuffle=True)"
   ]
  },
  {
   "cell_type": "code",
   "execution_count": 3,
   "id": "48e6c14f-79e7-48a1-8979-9c1b9da3235a",
   "metadata": {},
   "outputs": [],
   "source": [
    "device = \"cuda\" if torch.cuda.is_available() else \"cpu\""
   ]
  },
  {
   "cell_type": "code",
   "execution_count": 22,
   "id": "846152e5-9248-424a-bfa1-977463b3e70b",
   "metadata": {},
   "outputs": [],
   "source": [
    "class NeuralNetwork(nn.Module):\n",
    "\n",
    "    def __init__(self):\n",
    "        super(NeuralNetwork,self).__init__()\n",
    "\n",
    "        self.fc1 = nn.Linear(28*28,512)\n",
    "        self.fc2 = nn.Linear(512,256)\n",
    "        self.fc3 = nn.Linear(256,128)\n",
    "        self.fc4 = nn.Linear(128,10)\n",
    "\n",
    "\n",
    "    def forward(self,x):\n",
    "        x = x.view(x.size(0),-1)\n",
    "        x = F.relu(self.fc1(x))\n",
    "        x = F.relu(self.fc2(x))\n",
    "        x = F.relu(self.fc3(x))\n",
    "        return self.fc4(x)"
   ]
  },
  {
   "cell_type": "code",
   "execution_count": 28,
   "id": "9fdc2142-6c6a-43c5-be67-f73a95b0f6e1",
   "metadata": {},
   "outputs": [],
   "source": [
    "all_activation = [torch.zeros(512).to(device),  # 1st hidden layer\n",
    "                  torch.zeros(256).to(device),  # 2nd hidden layer\n",
    "                  torch.zeros(128).to(device)   # 3nd hidden layer\n",
    "                 ]\n"
   ]
  },
  {
   "cell_type": "code",
   "execution_count": 29,
   "id": "0b133079-0a70-4cca-969f-74f42405d974",
   "metadata": {},
   "outputs": [],
   "source": [
    "net = NeuralNetwork().to(device)\n",
    "optimizer = optim.Adam(net.parameters(),lr = 0.001)\n",
    "criterion = nn.CrossEntropyLoss().to(device)\n",
    "epoch_size = 5"
   ]
  },
  {
   "cell_type": "code",
   "execution_count": 30,
   "id": "255b7528-eb23-42c7-8135-30f721e48ef2",
   "metadata": {},
   "outputs": [
    {
     "name": "stdout",
     "output_type": "stream",
     "text": [
      "Epoch 1 Loss: 0.3178 Accuracy: 0.8993\n",
      "Epoch 2 Loss: 0.1442 Accuracy: 0.9555\n",
      "Epoch 3 Loss: 0.1085 Accuracy: 0.9661\n",
      "Epoch 4 Loss: 0.0913 Accuracy: 0.9715\n",
      "Epoch 5 Loss: 0.0775 Accuracy: 0.9757\n"
     ]
    }
   ],
   "source": [
    "net.train()\n",
    "\n",
    "for epoch in range(epoch_size):\n",
    "    epoch_loss = 0\n",
    "    correct_predictions = 0\n",
    "    total_predictions = 0\n",
    "    for data in trainloader:\n",
    "        \n",
    "        \n",
    "        X, y = data[0].to(device), data[1].to(device)\n",
    "    \n",
    "        preds = net(X)\n",
    "        loss = criterion(preds,y)\n",
    "        loss.backward()\n",
    "        optimizer.step()\n",
    "        optimizer.zero_grad()\n",
    "\n",
    "        epoch_loss+= loss\n",
    "\n",
    "        #Calculate accuracy\n",
    "\n",
    "        _, predicted = torch.max(preds,1)\n",
    "        correct_predictions += (predicted ==y).sum().item()\n",
    "        total_predictions+= y.size(0)\n",
    "\n",
    "    accuracy = correct_predictions / total_predictions\n",
    "\n",
    "    average_loss = epoch_loss / len(trainloader)\n",
    "\n",
    "    print(f\"Epoch {epoch+1} Loss: {average_loss:.4f} Accuracy: {accuracy:.4f}\")\n",
    "    \n"
   ]
  },
  {
   "cell_type": "code",
   "execution_count": 43,
   "id": "d344cc46-cb13-4979-b7db-e12d2cd526c0",
   "metadata": {},
   "outputs": [],
   "source": [
    "for data in trainloader: # for every batch\n",
    "    inputs, _ = data\n",
    "\n",
    "    # compute layer by layer activation\n",
    "    activations_fc1 = torch.relu(net.fc1(inputs.view(-1,28*28).to(device)))\n",
    "    activations_fc2 = torch.relu(net.fc2(activations_fc1))\n",
    "    activations_fc3 = torch.relu(net.fc3(activations_fc2))\n",
    "\n",
    "    # store layer-by-layer activatons\n",
    "    all_activation[0] += torch.sum(activations_fc1,dim =0)\n",
    "    all_activation[1] += torch.sum(activations_fc2,dim =0)\n",
    "    all_activation[2] += torch.sum(activations_fc3,dim =0)\n",
    "\n",
    "#compute average activation\n",
    "for idx, activations in enumerate(all_activation):\n",
    "    all_activation[idx] = activations/(len(trainloader)*64)"
   ]
  },
  {
   "cell_type": "code",
   "execution_count": 44,
   "id": "01fb8ea4-df81-4ace-90a5-f024809dfcab",
   "metadata": {},
   "outputs": [],
   "source": [
    "new_net = NeuralNetwork()\n",
    "\n",
    "new_net.fc1.weight = net.fc1.weight\n",
    "new_net.fc2.weight = net.fc2.weight\n",
    "new_net.fc3.weight = net.fc3.weight\n",
    "new_net.fc4.weight = net.fc4.weight\n",
    "\n",
    "new_net.fc1.bias = net.fc1.bias\n",
    "new_net.fc2.bias = net.fc2.bias\n",
    "new_net.fc3.bias = net.fc3.bias\n",
    "new_net.fc4.bias = net.fc4.bias"
   ]
  },
  {
   "cell_type": "code",
   "execution_count": 45,
   "id": "6c257c75-f513-4848-91b1-d6e8bdac3cd1",
   "metadata": {},
   "outputs": [],
   "source": [
    "threshold = 0.4"
   ]
  },
  {
   "cell_type": "code",
   "execution_count": 46,
   "id": "afd5d748-075c-4865-8735-5195bef50935",
   "metadata": {},
   "outputs": [],
   "source": [
    "#apply threshold on first hidden layer\n",
    "keep_neurons_l1 = all_activation[0]> threshold\n",
    "\n",
    "#remove rows (neurons) that have activations below threshold\n",
    "new_net.fc1.weight = nn.Parameter(new_net.fc1.weight[keep_neurons_l1])\n",
    "\n",
    "#remove columns (neurons) that have activations below threshold\n",
    "new_net.fc2.weight = nn.Parameter(new_net.fc2.weight[:,keep_neurons_l1])\n",
    "\n",
    "#remove bias of neurons that have activations below threshold\n",
    "new_net.fc1.bias = nn.Parameter(new_net.fc1.bias[keep_neurons_l1])"
   ]
  },
  {
   "cell_type": "code",
   "execution_count": 48,
   "id": "a76fe45c-f358-4755-839a-f1daca37d94a",
   "metadata": {},
   "outputs": [],
   "source": [
    "## Second hidden layer\n",
    "keep_neurons_l2 = all_activation[1]>threshold\n",
    "\n",
    "new_net.fc2.weight = nn.Parameter(new_net.fc2.weight[keep_neurons_l2])\n",
    "new_net.fc3.weight = nn.Parameter(new_net.fc3.weight[:, keep_neurons_l2])\n",
    "\n",
    "new_net.fc2.bias = nn.Parameter(new_net.fc2.bias[keep_neurons_l2])\n",
    "\n",
    "## Third hidden layer\n",
    "keep_neurons_l3 = all_activation[2]>threshold\n",
    "\n",
    "new_net.fc3.weight = nn.Parameter(new_net.fc3.weight[keep_neurons_l3])\n",
    "new_net.fc4.weight = nn.Parameter(new_net.fc4.weight[:, keep_neurons_l3])\n",
    "\n",
    "new_net.fc3.bias = nn.Parameter(new_net.fc3.bias[keep_neurons_l3])"
   ]
  },
  {
   "cell_type": "code",
   "execution_count": 50,
   "id": "dd3c3ae7-918c-4bfc-a8d2-30339e795799",
   "metadata": {},
   "outputs": [
    {
     "name": "stdout",
     "output_type": "stream",
     "text": [
      "torch.Size([512, 784])\n",
      "torch.Size([256, 512])\n",
      "torch.Size([128, 256])\n",
      "torch.Size([10, 128])\n",
      "torch.Size([512])\n",
      "torch.Size([256])\n",
      "torch.Size([128])\n",
      "torch.Size([10])\n"
     ]
    }
   ],
   "source": [
    "print(net.fc1.weight.data.shape)\n",
    "print(net.fc2.weight.data.shape)\n",
    "print(net.fc3.weight.data.shape)\n",
    "print(net.fc4.weight.data.shape)\n",
    "\n",
    "print(net.fc1.bias.data.shape)\n",
    "print(net.fc2.bias.data.shape)\n",
    "print(net.fc3.bias.data.shape)\n",
    "print(net.fc4.bias.data.shape)"
   ]
  },
  {
   "cell_type": "code",
   "execution_count": 51,
   "id": "b966fbda-0340-4627-9cbf-467375423f55",
   "metadata": {},
   "outputs": [
    {
     "name": "stdout",
     "output_type": "stream",
     "text": [
      "torch.Size([132, 784])\n",
      "torch.Size([164, 132])\n",
      "torch.Size([97, 164])\n",
      "torch.Size([10, 97])\n",
      "torch.Size([132])\n",
      "torch.Size([164])\n",
      "torch.Size([97])\n",
      "torch.Size([10])\n"
     ]
    }
   ],
   "source": [
    "print(new_net.fc1.weight.data.shape)\n",
    "print(new_net.fc2.weight.data.shape)\n",
    "print(new_net.fc3.weight.data.shape)\n",
    "print(new_net.fc4.weight.data.shape)\n",
    "\n",
    "print(new_net.fc1.bias.data.shape)\n",
    "print(new_net.fc2.bias.data.shape)\n",
    "print(new_net.fc3.bias.data.shape)\n",
    "print(new_net.fc4.bias.data.shape)"
   ]
  }
 ],
 "metadata": {
  "kernelspec": {
   "display_name": "Python 3 (ipykernel)",
   "language": "python",
   "name": "python3"
  },
  "language_info": {
   "codemirror_mode": {
    "name": "ipython",
    "version": 3
   },
   "file_extension": ".py",
   "mimetype": "text/x-python",
   "name": "python",
   "nbconvert_exporter": "python",
   "pygments_lexer": "ipython3",
   "version": "3.12.4"
  }
 },
 "nbformat": 4,
 "nbformat_minor": 5
}
